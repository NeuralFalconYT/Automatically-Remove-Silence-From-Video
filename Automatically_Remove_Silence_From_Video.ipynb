{
  "nbformat": 4,
  "nbformat_minor": 0,
  "metadata": {
    "colab": {
      "provenance": [],
      "gpuType": "T4"
    },
    "kernelspec": {
      "name": "python3",
      "display_name": "Python 3"
    },
    "language_info": {
      "name": "python"
    },
    "accelerator": "GPU"
  },
  "cells": [
    {
      "cell_type": "code",
      "source": [
        "#@title Install\n",
        "%cd /content/\n",
        "!git clone https://github.com/NeuralFalconYT/Automatically-Remove-Silence-From-Video.git\n",
        "%cd Automatically-Remove-Silence-From-Video\n",
        "!pip install -r requirements.txt\n",
        "from IPython.display import clear_output\n",
        "clear_output()\n"
      ],
      "metadata": {
        "cellView": "form",
        "id": "l8uoxcMeSjPz"
      },
      "execution_count": 1,
      "outputs": []
    },
    {
      "cell_type": "code",
      "source": [
        "%cd /content/Automatically-Remove-Silence-From-Video\n",
        "!python app.py --share"
      ],
      "metadata": {
        "id": "NgopGXC1SjMs"
      },
      "execution_count": null,
      "outputs": []
    }
  ]
}